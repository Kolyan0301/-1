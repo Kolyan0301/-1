{
  "nbformat": 4,
  "nbformat_minor": 0,
  "metadata": {
    "colab": {
      "provenance": []
    },
    "kernelspec": {
      "name": "python3",
      "display_name": "Python 3"
    },
    "language_info": {
      "name": "python"
    }
  },
  "cells": [
    {
      "cell_type": "code",
      "source": [
        "a=input('Введите ваши фамилию, имя, отчество ')\n",
        "b=input('Сколько вам лет? ')\n",
        "c=input('Где вы живете? ')\n",
        "print('Ваше имя ',a)\n",
        "print('Ваш возраст ',b)\n",
        "print('Вы живете в ',c)\n"
      ],
      "metadata": {
        "colab": {
          "base_uri": "https://localhost:8080/"
        },
        "id": "zOqMfL-AWKpu",
        "outputId": "3bdc090b-d8fa-4180-dfe3-49cd33e9e3a0"
      },
      "execution_count": 12,
      "outputs": [
        {
          "output_type": "stream",
          "name": "stdout",
          "text": [
            "Введите ваши фамилию, имя, отчество Иванов Иван Иванович\n",
            "Сколько вам лет? 15\n",
            "Где вы живете? Усурийск\n",
            "Ваше имя  Иванов Иван Иванович\n",
            "Ваш возраст  15\n",
            "Вы живете в  Усурийск\n"
          ]
        }
      ]
    }
  ]
}